{
 "cells": [
  {
   "cell_type": "code",
   "execution_count": 6,
   "metadata": {},
   "outputs": [],
   "source": [
    "data = \"This is a sensitive data\""
   ]
  },
  {
   "cell_type": "code",
   "execution_count": 7,
   "metadata": {},
   "outputs": [],
   "source": [
    "import base64\n",
    "\n",
    "def encrypt_data(data, key):\n",
    "    encrypted = \"\"\n",
    "    for i in range(len(data)):\n",
    "        char = data[i]\n",
    "        key_char = key[i % len(key)]\n",
    "        encrypted_char = chr(ord(char) ^ ord(key_char))\n",
    "        encrypted += encrypted_char\n",
    "    return base64.b64encode(encrypted.encode()).decode()\n",
    "\n",
    "def decrypt_data(encrypted_data, key):\n",
    "    encrypted = base64.b64decode(encrypted_data).decode()\n",
    "    decrypted = \"\"\n",
    "    for i in range(len(encrypted)):\n",
    "        char = encrypted[i]\n",
    "        key_char = key[i % len(key)]\n",
    "        decrypted_char = chr(ord(char) ^ ord(key_char))\n",
    "        decrypted += decrypted_char\n",
    "    return decrypted"
   ]
  },
  {
   "cell_type": "code",
   "execution_count": 8,
   "metadata": {},
   "outputs": [
    {
     "name": "stdout",
     "output_type": "stream",
     "text": [
      "Pw0QGEUQGEUYSxYcBRYQHwwPDkUdChEY\n"
     ]
    }
   ],
   "source": [
    "encrypted_data = encrypt_data(data, \"key\")\n",
    "print(encrypted_data)"
   ]
  },
  {
   "cell_type": "code",
   "execution_count": 9,
   "metadata": {},
   "outputs": [
    {
     "name": "stdout",
     "output_type": "stream",
     "text": [
      "This is a sensitive data\n"
     ]
    }
   ],
   "source": [
    "print(decrypt_data(encrypted_data, \"key\"))"
   ]
  },
  {
   "cell_type": "code",
   "execution_count": 10,
   "metadata": {},
   "outputs": [
    {
     "name": "stdout",
     "output_type": "stream",
     "text": [
      "eb98750dca5a0f08bf45f3f14c657a1138cc160406338a443cdb9721d4db63ac\n"
     ]
    }
   ],
   "source": [
    "import hashlib\n",
    "\n",
    "def calculate_hash(data):\n",
    "    return hashlib.sha256(data.encode()).hexdigest()\n",
    "\n",
    "hash_value = calculate_hash(data)\n",
    "print(hash_value)"
   ]
  },
  {
   "cell_type": "markdown",
   "metadata": {},
   "source": [
    "# Availability"
   ]
  },
  {
   "cell_type": "code",
   "execution_count": 11,
   "metadata": {},
   "outputs": [
    {
     "name": "stdout",
     "output_type": "stream",
     "text": [
      "Data backep up successfully.\n"
     ]
    }
   ],
   "source": [
    "def backup_data(data):\n",
    "    with open(\"backup.txt\", \"w\") as file:\n",
    "        file.write(data)\n",
    "    print(\"Data backep up successfully.\")\n",
    "\n",
    "backup_data(data)"
   ]
  }
 ],
 "metadata": {
  "kernelspec": {
   "display_name": "Python 3",
   "language": "python",
   "name": "python3"
  },
  "language_info": {
   "codemirror_mode": {
    "name": "ipython",
    "version": 3
   },
   "file_extension": ".py",
   "mimetype": "text/x-python",
   "name": "python",
   "nbconvert_exporter": "python",
   "pygments_lexer": "ipython3",
   "version": "3.12.1"
  }
 },
 "nbformat": 4,
 "nbformat_minor": 2
}
